{
  "nbformat": 4,
  "nbformat_minor": 0,
  "metadata": {
    "colab": {
      "name": "Dummy-Transit",
      "provenance": [],
      "authorship_tag": "ABX9TyMLa4jp8qDLQ5LJrtq2a8MM"
    },
    "kernelspec": {
      "name": "python3",
      "display_name": "Python 3"
    },
    "language_info": {
      "name": "python"
    }
  },
  "cells": [
    {
      "cell_type": "markdown",
      "metadata": {
        "id": "qyVKNvREqRpX"
      },
      "source": [
        "#Finding the Parameters of a Known Exoplanet Transit Model"
      ]
    },
    {
      "cell_type": "markdown",
      "metadata": {
        "id": "J-qkvpWDqUJH"
      },
      "source": [
        "This notebook will serve as a code base for working through raw exoplanet transit data to eventually compute the parameters for the transit model. \n",
        "\n",
        "There are three main sections of this notebook:\n",
        "\n",
        "\n",
        "1.   Manually fitting parameters to the transit data using the BATMAN model to find a suitable initial guess for the minimize function, plotting this lightcurve over the transit data to assess accuracy.\n",
        "2.   Using a minimize function to find more accurate parameters using the initial guess from the BATMAN model, again, plotting this lightcurve over the transit data to assess accuracy.\n",
        "3. Folding this data onto itself using a value for the orbital period given by our minimize function.\n",
        "\n",
        "Note: The Transit Least Squares function can fold the data for us and compute an accurate value for the transit period, but, in this notebook, I'll opt for manual solutions in order to aid my understanding of what we're trying to achieve."
      ]
    },
    {
      "cell_type": "markdown",
      "metadata": {
        "id": "H5M_v1KGEbWV"
      },
      "source": [
        "###Installing Dependencies"
      ]
    },
    {
      "cell_type": "code",
      "metadata": {
        "id": "k5ysglPxoWlK",
        "outputId": "0645d3e8-6707-4156-e434-ff1a7b413653",
        "colab": {
          "base_uri": "https://localhost:8080/",
          "height": 1000
        }
      },
      "source": [
        "!pip install batman-package\n",
        "!pip install astropy\n",
        "!pip install transitleastsquares\n",
        "from scipy.optimize import minimize\n",
        "!python -c 'import batman;batman.test()'\n",
        "import batman\n",
        "import numpy as np\n",
        "import matplotlib.pyplot as plt\n",
        "from astropy.io import ascii\n",
        "from transitleastsquares import transitleastsquares"
      ],
      "execution_count": 11,
      "outputs": [
        {
          "output_type": "stream",
          "name": "stdout",
          "text": [
            "Requirement already satisfied: batman-package in /usr/local/lib/python3.7/dist-packages (2.4.8)\n",
            "Requirement already satisfied: numpy in /usr/local/lib/python3.7/dist-packages (from batman-package) (1.19.5)\n",
            "Requirement already satisfied: astropy in /usr/local/lib/python3.7/dist-packages (4.3.1)\n",
            "Requirement already satisfied: importlib-metadata in /usr/local/lib/python3.7/dist-packages (from astropy) (4.8.1)\n",
            "Requirement already satisfied: numpy>=1.17 in /usr/local/lib/python3.7/dist-packages (from astropy) (1.19.5)\n",
            "Requirement already satisfied: pyerfa>=1.7.3 in /usr/local/lib/python3.7/dist-packages (from astropy) (2.0.0)\n",
            "Requirement already satisfied: typing-extensions>=3.6.4 in /usr/local/lib/python3.7/dist-packages (from importlib-metadata->astropy) (3.7.4.3)\n",
            "Requirement already satisfied: zipp>=0.5 in /usr/local/lib/python3.7/dist-packages (from importlib-metadata->astropy) (3.6.0)\n",
            "Requirement already satisfied: transitleastsquares in /usr/local/lib/python3.7/dist-packages (1.0.28)\n",
            "Requirement already satisfied: astroquery>=0.3.9 in /usr/local/lib/python3.7/dist-packages (from transitleastsquares) (0.4.3)\n",
            "Requirement already satisfied: numpy in /usr/local/lib/python3.7/dist-packages (from transitleastsquares) (1.19.5)\n",
            "Requirement already satisfied: configparser in /usr/local/lib/python3.7/dist-packages (from transitleastsquares) (5.1.0)\n",
            "Requirement already satisfied: batman-package in /usr/local/lib/python3.7/dist-packages (from transitleastsquares) (2.4.8)\n",
            "Requirement already satisfied: numba in /usr/local/lib/python3.7/dist-packages (from transitleastsquares) (0.51.2)\n",
            "Collecting argparse\n",
            "  Using cached argparse-1.4.0-py2.py3-none-any.whl (23 kB)\n",
            "Requirement already satisfied: tqdm in /usr/local/lib/python3.7/dist-packages (from transitleastsquares) (4.62.3)\n",
            "Requirement already satisfied: astropy>=3.1.2 in /usr/local/lib/python3.7/dist-packages (from astroquery>=0.3.9->transitleastsquares) (4.3.1)\n",
            "Requirement already satisfied: six in /usr/local/lib/python3.7/dist-packages (from astroquery>=0.3.9->transitleastsquares) (1.15.0)\n",
            "Requirement already satisfied: html5lib>=0.999 in /usr/local/lib/python3.7/dist-packages (from astroquery>=0.3.9->transitleastsquares) (1.0.1)\n",
            "Requirement already satisfied: beautifulsoup4>=4.3.2 in /usr/local/lib/python3.7/dist-packages (from astroquery>=0.3.9->transitleastsquares) (4.6.3)\n",
            "Requirement already satisfied: requests>=2.4.3 in /usr/local/lib/python3.7/dist-packages (from astroquery>=0.3.9->transitleastsquares) (2.23.0)\n",
            "Requirement already satisfied: pyvo>=1.1 in /usr/local/lib/python3.7/dist-packages (from astroquery>=0.3.9->transitleastsquares) (1.1)\n",
            "Requirement already satisfied: keyring>=4.0 in /usr/local/lib/python3.7/dist-packages (from astroquery>=0.3.9->transitleastsquares) (23.2.1)\n",
            "Requirement already satisfied: importlib-metadata in /usr/local/lib/python3.7/dist-packages (from astropy>=3.1.2->astroquery>=0.3.9->transitleastsquares) (4.8.1)\n",
            "Requirement already satisfied: pyerfa>=1.7.3 in /usr/local/lib/python3.7/dist-packages (from astropy>=3.1.2->astroquery>=0.3.9->transitleastsquares) (2.0.0)\n",
            "Requirement already satisfied: webencodings in /usr/local/lib/python3.7/dist-packages (from html5lib>=0.999->astroquery>=0.3.9->transitleastsquares) (0.5.1)\n",
            "Requirement already satisfied: SecretStorage>=3.2 in /usr/local/lib/python3.7/dist-packages (from keyring>=4.0->astroquery>=0.3.9->transitleastsquares) (3.3.1)\n",
            "Requirement already satisfied: jeepney>=0.4.2 in /usr/local/lib/python3.7/dist-packages (from keyring>=4.0->astroquery>=0.3.9->transitleastsquares) (0.7.1)\n",
            "Requirement already satisfied: zipp>=0.5 in /usr/local/lib/python3.7/dist-packages (from importlib-metadata->astropy>=3.1.2->astroquery>=0.3.9->transitleastsquares) (3.6.0)\n",
            "Requirement already satisfied: typing-extensions>=3.6.4 in /usr/local/lib/python3.7/dist-packages (from importlib-metadata->astropy>=3.1.2->astroquery>=0.3.9->transitleastsquares) (3.7.4.3)\n",
            "Requirement already satisfied: mimeparse in /usr/local/lib/python3.7/dist-packages (from pyvo>=1.1->astroquery>=0.3.9->transitleastsquares) (0.1.3)\n",
            "Requirement already satisfied: urllib3!=1.25.0,!=1.25.1,<1.26,>=1.21.1 in /usr/local/lib/python3.7/dist-packages (from requests>=2.4.3->astroquery>=0.3.9->transitleastsquares) (1.24.3)\n",
            "Requirement already satisfied: chardet<4,>=3.0.2 in /usr/local/lib/python3.7/dist-packages (from requests>=2.4.3->astroquery>=0.3.9->transitleastsquares) (3.0.4)\n",
            "Requirement already satisfied: certifi>=2017.4.17 in /usr/local/lib/python3.7/dist-packages (from requests>=2.4.3->astroquery>=0.3.9->transitleastsquares) (2021.5.30)\n",
            "Requirement already satisfied: idna<3,>=2.5 in /usr/local/lib/python3.7/dist-packages (from requests>=2.4.3->astroquery>=0.3.9->transitleastsquares) (2.10)\n",
            "Requirement already satisfied: cryptography>=2.0 in /usr/local/lib/python3.7/dist-packages (from SecretStorage>=3.2->keyring>=4.0->astroquery>=0.3.9->transitleastsquares) (35.0.0)\n",
            "Requirement already satisfied: cffi>=1.12 in /usr/local/lib/python3.7/dist-packages (from cryptography>=2.0->SecretStorage>=3.2->keyring>=4.0->astroquery>=0.3.9->transitleastsquares) (1.14.6)\n",
            "Requirement already satisfied: pycparser in /usr/local/lib/python3.7/dist-packages (from cffi>=1.12->cryptography>=2.0->SecretStorage>=3.2->keyring>=4.0->astroquery>=0.3.9->transitleastsquares) (2.20)\n",
            "Requirement already satisfied: setuptools in /usr/local/lib/python3.7/dist-packages (from numba->transitleastsquares) (57.4.0)\n",
            "Requirement already satisfied: llvmlite<0.35,>=0.34.0.dev0 in /usr/local/lib/python3.7/dist-packages (from numba->transitleastsquares) (0.34.0)\n",
            "Installing collected packages: argparse\n",
            "Successfully installed argparse-1.4.0\n"
          ]
        },
        {
          "output_type": "display_data",
          "data": {
            "application/vnd.colab-display-data+json": {
              "pip_warning": {
                "packages": [
                  "argparse"
                ]
              }
            }
          },
          "metadata": {}
        },
        {
          "output_type": "stream",
          "name": "stdout",
          "text": [
            "\n",
            "Starting tests...\n",
            "\n",
            "Testing uniform limb darkening model...\t\n",
            "\ttest passed\n",
            "Testing linear limb darkening model...\t\n",
            "\ttest passed\n",
            "Testing quadratic limb darkening model...\t\n",
            "\ttest passed\n",
            "Testing exponential limb darkening model...\t\n",
            "\ttest passed\n",
            "Testing logarithmic limb darkening model...\t\n",
            "\ttest passed\n",
            "Testing nonlinear limb darkening model...\t\n",
            "\ttest passed\n",
            "\n",
            "Testing error tolerance...\n",
            "\t10.0 ppm passed\n",
            "\t1.0 ppm passed\n",
            "\t0.1 ppm passed\n",
            "\t0.01 ppm passed\n",
            "\n",
            "Testing multithreading...\n",
            "\ttest passed\n",
            "\n",
            "Congratulations! all tests passed\n",
            "\n",
            "  ____       ____\n",
            "  )   \\     /   (\n",
            "   )_  \\_V_/  _(\n",
            "     )__   __(\n",
            "        `-'\n"
          ]
        }
      ]
    },
    {
      "cell_type": "markdown",
      "metadata": {
        "id": "Q2_M0CsjFPJ_"
      },
      "source": [
        "### Importing and Plotting Raw Transit Data"
      ]
    },
    {
      "cell_type": "code",
      "metadata": {
        "id": "zpxkvwsJodC4",
        "outputId": "2c37a920-1f9d-4c34-9c03-d6d6082d3862",
        "colab": {
          "base_uri": "https://localhost:8080/"
        }
      },
      "source": [
        "data = ascii.read(\"https://raw.githubusercontent.com/Hamza-Suleman/transiting-exoplanets/main/Transit_model_LC_data.txt?token=AV7T5IO5QYXVU75KGH3ODX3BRJ4RO\")\n",
        "print(data)"
      ],
      "execution_count": 12,
      "outputs": [
        {
          "output_type": "stream",
          "name": "stdout",
          "text": [
            "  time     flux  flux_err\n",
            "-------- ------- --------\n",
            "     0.0 0.99973  0.00097\n",
            " 0.01501 0.99943  0.00071\n",
            " 0.03002 1.00095  0.00072\n",
            " 0.04502 1.00053  0.00083\n",
            " 0.06003 1.00015  0.00069\n",
            " 0.07504 1.00062  0.00088\n",
            " 0.09005 0.99986  0.00064\n",
            " 0.10505 1.00168  0.00062\n",
            " 0.12006 1.00005  0.00073\n",
            " 0.13507 0.99984  0.00093\n",
            "     ...     ...      ...\n",
            "29.84992 0.99858  0.00077\n",
            "29.86493 0.99963  0.00091\n",
            "29.87994  1.0007  0.00065\n",
            "29.89495 0.99992  0.00084\n",
            "29.90995 0.99992  0.00076\n",
            "29.92496 0.99957   0.0007\n",
            "29.93997 1.00093  0.00097\n",
            "29.95498 1.00148  0.00099\n",
            "29.96998  0.9987  0.00069\n",
            "29.98499 1.00018  0.00083\n",
            "    30.0 1.00051  0.00095\n",
            "Length = 2000 rows\n"
          ]
        }
      ]
    },
    {
      "cell_type": "code",
      "metadata": {
        "id": "3rMRzHskFWBe",
        "outputId": "f7e3ae3a-bcab-4931-f585-1455db670bf4",
        "colab": {
          "base_uri": "https://localhost:8080/",
          "height": 283
        }
      },
      "source": [
        "time = []\n",
        "flux = []\n",
        "flux_err = []\n",
        "\n",
        "for i in range(len(data)):\n",
        "  time.append(data[i][0])\n",
        "  flux.append(data[i][1])\n",
        "  flux_err.append(data[i][2])\n",
        "\n",
        "time = np.array(time)\n",
        "flux = np.array(flux)\n",
        "flux_err = np.array(flux_err)\n",
        "\n",
        "plt.plot(time,flux)"
      ],
      "execution_count": 14,
      "outputs": [
        {
          "output_type": "execute_result",
          "data": {
            "text/plain": [
              "[<matplotlib.lines.Line2D at 0x7eff71458d50>]"
            ]
          },
          "metadata": {},
          "execution_count": 14
        },
        {
          "output_type": "display_data",
          "data": {
            "image/png": "[encoded data removed]",
            "text/plain": [
              "<Figure size 432x288 with 1 Axes>"
            ]
          },
          "metadata": {
            "needs_background": "light"
          }
        }
      ]
    },
    {
      "cell_type": "markdown",
      "metadata": {
        "id": "ysdQ5SarFt-Z"
      },
      "source": [
        "###Writing a Function to Plot a Lightcurve from Transit Parameters"
      ]
    },
    {
      "cell_type": "code",
      "metadata": {
        "id": "IVbEB0PqFgTw"
      },
      "source": [
        "def transit_plot(par,t):   #creating a function to take a list parameter inputs and plot a lightcurve\n",
        "  params = batman.TransitParams()\n",
        "  params.t0 = par[0]                      #time of inferior conjunction\n",
        "  params.per = par[1]                     #orbital period\n",
        "  params.rp = par[2]                      #planet radius (in units of stellar radii)\n",
        "  params.a = par[3]                       #semi-major axis (in units of stellar radii)\n",
        "  params.inc = par[4]                     #orbital inclination (in degrees)\n",
        "  params.ecc = par[5]                     #eccentricity\n",
        "  params.w = par[6]                       #longitude of periastron (in degrees)\n",
        "  params.u = [0.1, 0.3]                   #limb darkening coefficients [u1, u2]\n",
        "  params.limb_dark = \"quadratic\"          #limb darkening model\n",
        "  m = batman.TransitModel(params, t)      #initializes model\n",
        "  flux = m.light_curve(params)            #calculates light curve\n",
        "  plt.plot(t, flux)\n",
        "  plt.xlabel(\"Time\")\n",
        "  plt.ylabel(\"Relative flux\")\n",
        "  plt.show()"
      ],
      "execution_count": 15,
      "outputs": []
    },
    {
      "cell_type": "code",
      "metadata": {
        "id": "Z0hNAoKgGsMq"
      },
      "source": [
        ""
      ],
      "execution_count": null,
      "outputs": []
    }
  ]
}