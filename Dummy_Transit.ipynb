{
  "nbformat": 4,
  "nbformat_minor": 0,
  "metadata": {
    "colab": {
      "name": "Dummy-Transit",
      "provenance": [],
      "authorship_tag": "ABX9TyNWL7x3z3RvG6Onhv0lmWty"
    },
    "kernelspec": {
      "name": "python3",
      "display_name": "Python 3"
    },
    "language_info": {
      "name": "python"
    }
  },
  "cells": [
    {
      "cell_type": "markdown",
      "metadata": {
        "id": "qyVKNvREqRpX"
      },
      "source": [
        "#Finding the Parameters of a Known Exoplanet Transit Model"
      ]
    },
    {
      "cell_type": "markdown",
      "metadata": {
        "id": "J-qkvpWDqUJH"
      },
      "source": [
        "This notebook will serve as a code base for working through raw exoplanet transit data to eventually compute the parameters for the transit model. \n",
        "\n",
        "There are three main sections of this notebook:\n",
        "\n",
        "\n",
        "1.   Manually fitting parameters to the transit data using the BATMAN model to find a suitable initial guess for the minimize function, plotting this lightcurve over the transit data to assess accuracy.\n",
        "2.   Using a minimize function to find more accurate parameters using the initial guess from the BATMAN model, again, plotting this lightcurve over the transit data to assess accuracy.\n",
        "3. Folding this data onto itself using a value for the orbital period given by our minimize function.\n",
        "\n",
        "Note: The Transit Least Squares function can fold the data for us and compute an accurate value for the transit period, but, in this notebook, I'll opt for manual solutions in order to aid my understanding of what we're trying to achieve."
      ]
    },
    {
      "cell_type": "code",
      "metadata": {
        "id": "k5ysglPxoWlK"
      },
      "source": [
        ""
      ],
      "execution_count": 1,
      "outputs": []
    },
    {
      "cell_type": "code",
      "metadata": {
        "id": "zpxkvwsJodC4"
      },
      "source": [
        ""
      ],
      "execution_count": null,
      "outputs": []
    }
  ]
}