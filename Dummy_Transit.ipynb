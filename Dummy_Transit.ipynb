{
  "nbformat": 4,
  "nbformat_minor": 0,
  "metadata": {
    "colab": {
      "name": "Dummy-Transit",
      "provenance": [],
      "authorship_tag": "ABX9TyMVo3D63o/gAtRVG2v+foFP"
    },
    "kernelspec": {
      "name": "python3",
      "display_name": "Python 3"
    },
    "language_info": {
      "name": "python"
    }
  },
  "cells": [
    {
      "cell_type": "markdown",
      "metadata": {
        "id": "qyVKNvREqRpX"
      },
      "source": [
        "#Finding the Parameters of a Known Exoplanet Transit Model"
      ]
    },
    {
      "cell_type": "markdown",
      "metadata": {
        "id": "J-qkvpWDqUJH"
      },
      "source": [
        "This notebook will serve as a code base for working through raw exoplanet transit data to eventually compute the parameters for the transit model. \n",
        "\n",
        "There are three main sections of this notebook:\n",
        "\n",
        "\n",
        "1.   Manually fitting parameters to the transit data using the BATMAN model to find a suitable initial guess for the minimize function, plotting this lightcurve over the transit data to assess accuracy.\n",
        "2.   Using a minimize function to find more accurate parameters using the initial guess from the BATMAN model, again, plotting this lightcurve over the transit data to assess accuracy.\n",
        "3. Folding this data onto itself using a value for the orbital period given by our minimize function.\n",
        "\n",
        "Note: The Transit Least Squares function can fold the data for us and compute an accurate value for the transit period, but, in this notebook, I'll opt for manual solutions in order to aid my understanding of what we're trying to achieve. We can, however, use the TLS function to verify our calculations."
      ]
    },
    {
      "cell_type": "markdown",
      "metadata": {
        "id": "H5M_v1KGEbWV"
      },
      "source": [
        "###Installing Dependencies"
      ]
    },
    {
      "cell_type": "code",
      "metadata": {
        "id": "k5ysglPxoWlK",
        "colab": {
          "base_uri": "https://localhost:8080/",
          "height": 1000
        },
        "outputId": "a29f0802-d1f9-49d9-baa8-410a2b92a0ba"
      },
      "source": [
        "!pip install batman-package\n",
        "!pip install astropy\n",
        "!pip install transitleastsquares\n",
        "from scipy.optimize import minimize\n",
        "!python -c 'import batman;batman.test()'\n",
        "import batman\n",
        "import numpy as np\n",
        "import matplotlib.pyplot as plt\n",
        "from astropy.io import ascii\n",
        "from transitleastsquares import transitleastsquares"
      ],
      "execution_count": 1,
      "outputs": [
        {
          "output_type": "stream",
          "name": "stdout",
          "text": [
            "Requirement already satisfied: batman-package in /usr/local/lib/python3.7/dist-packages (2.4.8)\n",
            "Requirement already satisfied: numpy in /usr/local/lib/python3.7/dist-packages (from batman-package) (1.19.5)\n",
            "Requirement already satisfied: astropy in /usr/local/lib/python3.7/dist-packages (4.3.1)\n",
            "Requirement already satisfied: importlib-metadata in /usr/local/lib/python3.7/dist-packages (from astropy) (4.8.1)\n",
            "Requirement already satisfied: numpy>=1.17 in /usr/local/lib/python3.7/dist-packages (from astropy) (1.19.5)\n",
            "Requirement already satisfied: pyerfa>=1.7.3 in /usr/local/lib/python3.7/dist-packages (from astropy) (2.0.0)\n",
            "Requirement already satisfied: typing-extensions>=3.6.4 in /usr/local/lib/python3.7/dist-packages (from importlib-metadata->astropy) (3.7.4.3)\n",
            "Requirement already satisfied: zipp>=0.5 in /usr/local/lib/python3.7/dist-packages (from importlib-metadata->astropy) (3.6.0)\n",
            "Requirement already satisfied: transitleastsquares in /usr/local/lib/python3.7/dist-packages (1.0.28)\n",
            "Requirement already satisfied: numba in /usr/local/lib/python3.7/dist-packages (from transitleastsquares) (0.51.2)\n",
            "Requirement already satisfied: astroquery>=0.3.9 in /usr/local/lib/python3.7/dist-packages (from transitleastsquares) (0.4.3)\n",
            "Requirement already satisfied: numpy in /usr/local/lib/python3.7/dist-packages (from transitleastsquares) (1.19.5)\n",
            "Requirement already satisfied: configparser in /usr/local/lib/python3.7/dist-packages (from transitleastsquares) (5.1.0)\n",
            "Requirement already satisfied: tqdm in /usr/local/lib/python3.7/dist-packages (from transitleastsquares) (4.62.3)\n",
            "Collecting argparse\n",
            "  Using cached argparse-1.4.0-py2.py3-none-any.whl (23 kB)\n",
            "Requirement already satisfied: batman-package in /usr/local/lib/python3.7/dist-packages (from transitleastsquares) (2.4.8)\n",
            "Requirement already satisfied: html5lib>=0.999 in /usr/local/lib/python3.7/dist-packages (from astroquery>=0.3.9->transitleastsquares) (1.0.1)\n",
            "Requirement already satisfied: beautifulsoup4>=4.3.2 in /usr/local/lib/python3.7/dist-packages (from astroquery>=0.3.9->transitleastsquares) (4.6.3)\n",
            "Requirement already satisfied: astropy>=3.1.2 in /usr/local/lib/python3.7/dist-packages (from astroquery>=0.3.9->transitleastsquares) (4.3.1)\n",
            "Requirement already satisfied: six in /usr/local/lib/python3.7/dist-packages (from astroquery>=0.3.9->transitleastsquares) (1.15.0)\n",
            "Requirement already satisfied: requests>=2.4.3 in /usr/local/lib/python3.7/dist-packages (from astroquery>=0.3.9->transitleastsquares) (2.23.0)\n",
            "Requirement already satisfied: pyvo>=1.1 in /usr/local/lib/python3.7/dist-packages (from astroquery>=0.3.9->transitleastsquares) (1.1)\n",
            "Requirement already satisfied: keyring>=4.0 in /usr/local/lib/python3.7/dist-packages (from astroquery>=0.3.9->transitleastsquares) (23.2.1)\n",
            "Requirement already satisfied: importlib-metadata in /usr/local/lib/python3.7/dist-packages (from astropy>=3.1.2->astroquery>=0.3.9->transitleastsquares) (4.8.1)\n",
            "Requirement already satisfied: pyerfa>=1.7.3 in /usr/local/lib/python3.7/dist-packages (from astropy>=3.1.2->astroquery>=0.3.9->transitleastsquares) (2.0.0)\n",
            "Requirement already satisfied: webencodings in /usr/local/lib/python3.7/dist-packages (from html5lib>=0.999->astroquery>=0.3.9->transitleastsquares) (0.5.1)\n",
            "Requirement already satisfied: jeepney>=0.4.2 in /usr/local/lib/python3.7/dist-packages (from keyring>=4.0->astroquery>=0.3.9->transitleastsquares) (0.7.1)\n",
            "Requirement already satisfied: SecretStorage>=3.2 in /usr/local/lib/python3.7/dist-packages (from keyring>=4.0->astroquery>=0.3.9->transitleastsquares) (3.3.1)\n",
            "Requirement already satisfied: typing-extensions>=3.6.4 in /usr/local/lib/python3.7/dist-packages (from importlib-metadata->astropy>=3.1.2->astroquery>=0.3.9->transitleastsquares) (3.7.4.3)\n",
            "Requirement already satisfied: zipp>=0.5 in /usr/local/lib/python3.7/dist-packages (from importlib-metadata->astropy>=3.1.2->astroquery>=0.3.9->transitleastsquares) (3.6.0)\n",
            "Requirement already satisfied: mimeparse in /usr/local/lib/python3.7/dist-packages (from pyvo>=1.1->astroquery>=0.3.9->transitleastsquares) (0.1.3)\n",
            "Requirement already satisfied: idna<3,>=2.5 in /usr/local/lib/python3.7/dist-packages (from requests>=2.4.3->astroquery>=0.3.9->transitleastsquares) (2.10)\n",
            "Requirement already satisfied: urllib3!=1.25.0,!=1.25.1,<1.26,>=1.21.1 in /usr/local/lib/python3.7/dist-packages (from requests>=2.4.3->astroquery>=0.3.9->transitleastsquares) (1.24.3)\n",
            "Requirement already satisfied: certifi>=2017.4.17 in /usr/local/lib/python3.7/dist-packages (from requests>=2.4.3->astroquery>=0.3.9->transitleastsquares) (2021.5.30)\n",
            "Requirement already satisfied: chardet<4,>=3.0.2 in /usr/local/lib/python3.7/dist-packages (from requests>=2.4.3->astroquery>=0.3.9->transitleastsquares) (3.0.4)\n",
            "Requirement already satisfied: cryptography>=2.0 in /usr/local/lib/python3.7/dist-packages (from SecretStorage>=3.2->keyring>=4.0->astroquery>=0.3.9->transitleastsquares) (35.0.0)\n",
            "Requirement already satisfied: cffi>=1.12 in /usr/local/lib/python3.7/dist-packages (from cryptography>=2.0->SecretStorage>=3.2->keyring>=4.0->astroquery>=0.3.9->transitleastsquares) (1.14.6)\n",
            "Requirement already satisfied: pycparser in /usr/local/lib/python3.7/dist-packages (from cffi>=1.12->cryptography>=2.0->SecretStorage>=3.2->keyring>=4.0->astroquery>=0.3.9->transitleastsquares) (2.20)\n",
            "Requirement already satisfied: llvmlite<0.35,>=0.34.0.dev0 in /usr/local/lib/python3.7/dist-packages (from numba->transitleastsquares) (0.34.0)\n",
            "Requirement already satisfied: setuptools in /usr/local/lib/python3.7/dist-packages (from numba->transitleastsquares) (57.4.0)\n",
            "Installing collected packages: argparse\n",
            "Successfully installed argparse-1.4.0\n"
          ]
        },
        {
          "output_type": "display_data",
          "data": {
            "application/vnd.colab-display-data+json": {
              "pip_warning": {
                "packages": [
                  "argparse"
                ]
              }
            }
          },
          "metadata": {}
        },
        {
          "output_type": "stream",
          "name": "stdout",
          "text": [
            "\n",
            "Starting tests...\n",
            "\n",
            "Testing uniform limb darkening model...\t\n",
            "\ttest passed\n",
            "Testing linear limb darkening model...\t\n",
            "\ttest passed\n",
            "Testing quadratic limb darkening model...\t\n",
            "\ttest passed\n",
            "Testing exponential limb darkening model...\t\n",
            "\ttest passed\n",
            "Testing logarithmic limb darkening model...\t\n",
            "\ttest passed\n",
            "Testing nonlinear limb darkening model...\t\n",
            "\ttest passed\n",
            "\n",
            "Testing error tolerance...\n",
            "\t10.0 ppm passed\n",
            "\t1.0 ppm passed\n",
            "\t0.1 ppm passed\n",
            "\t0.01 ppm passed\n",
            "\n",
            "Testing multithreading...\n",
            "\ttest passed\n",
            "\n",
            "Congratulations! all tests passed\n",
            "\n",
            "  ____       ____\n",
            "  )   \\     /   (\n",
            "   )_  \\_V_/  _(\n",
            "     )__   __(\n",
            "        `-'\n"
          ]
        }
      ]
    },
    {
      "cell_type": "markdown",
      "metadata": {
        "id": "Q2_M0CsjFPJ_"
      },
      "source": [
        "### Importing and Plotting Raw Transit Data"
      ]
    },
    {
      "cell_type": "code",
      "metadata": {
        "id": "zpxkvwsJodC4",
        "colab": {
          "base_uri": "https://localhost:8080/"
        },
        "outputId": "64504181-e358-461e-e31a-98fc4891b34c"
      },
      "source": [
        "data = ascii.read(\"https://raw.githubusercontent.com/Hamza-Suleman/transiting-exoplanets/main/Transit_model_LC_data.txt?token=AV7T5IO5QYXVU75KGH3ODX3BRJ4RO\")\n",
        "print(data)"
      ],
      "execution_count": 2,
      "outputs": [
        {
          "output_type": "stream",
          "name": "stdout",
          "text": [
            "  time     flux  flux_err\n",
            "-------- ------- --------\n",
            "     0.0 0.99973  0.00097\n",
            " 0.01501 0.99943  0.00071\n",
            " 0.03002 1.00095  0.00072\n",
            " 0.04502 1.00053  0.00083\n",
            " 0.06003 1.00015  0.00069\n",
            " 0.07504 1.00062  0.00088\n",
            " 0.09005 0.99986  0.00064\n",
            " 0.10505 1.00168  0.00062\n",
            " 0.12006 1.00005  0.00073\n",
            " 0.13507 0.99984  0.00093\n",
            "     ...     ...      ...\n",
            "29.84992 0.99858  0.00077\n",
            "29.86493 0.99963  0.00091\n",
            "29.87994  1.0007  0.00065\n",
            "29.89495 0.99992  0.00084\n",
            "29.90995 0.99992  0.00076\n",
            "29.92496 0.99957   0.0007\n",
            "29.93997 1.00093  0.00097\n",
            "29.95498 1.00148  0.00099\n",
            "29.96998  0.9987  0.00069\n",
            "29.98499 1.00018  0.00083\n",
            "    30.0 1.00051  0.00095\n",
            "Length = 2000 rows\n"
          ]
        }
      ]
    },
    {
      "cell_type": "code",
      "metadata": {
        "colab": {
          "base_uri": "https://localhost:8080/",
          "height": 283
        },
        "id": "3rMRzHskFWBe",
        "outputId": "a433c1ed-c6d1-468c-e20c-5aee8d9f319e"
      },
      "source": [
        "raw_time = []\n",
        "raw_flux = []\n",
        "raw_flux_err = []\n",
        "\n",
        "for i in range(len(data)):\n",
        "  raw_time.append(data[i][0])\n",
        "  raw_flux.append(data[i][1])\n",
        "  raw_flux_err.append(data[i][2])\n",
        "\n",
        "raw_time = np.array(raw_time)\n",
        "raw_flux = np.array(raw_flux)\n",
        "raw_flux_err = np.array(raw_flux_err)\n",
        "\n",
        "plt.plot(raw_time,raw_flux)"
      ],
      "execution_count": 3,
      "outputs": [
        {
          "output_type": "execute_result",
          "data": {
            "text/plain": [
              "[<matplotlib.lines.Line2D at 0x7f8589791dd0>]"
            ]
          },
          "metadata": {},
          "execution_count": 3
        },
        {
          "output_type": "display_data",
          "data": {
            "image/png": "[encoded data removed]",
            "text/plain": [
              "<Figure size 432x288 with 1 Axes>"
            ]
          },
          "metadata": {
            "needs_background": "light"
          }
        }
      ]
    },
    {
      "cell_type": "markdown",
      "metadata": {
        "id": "ysdQ5SarFt-Z"
      },
      "source": [
        "###Writing a Function to Plot a Lightcurve from Transit Parameters"
      ]
    },
    {
      "cell_type": "code",
      "metadata": {
        "id": "IVbEB0PqFgTw"
      },
      "source": [
        "def transit_plot(par,t,plottype=\"line\",colour=\"b\"):   #creating a function to take a list parameter inputs and plot a lightcurve\n",
        "  params = batman.TransitParams()\n",
        "  params.t0 = par[0]                      #time of inferior conjunction\n",
        "  params.per = par[1]                     #orbital period\n",
        "  params.rp = par[2]                      #planet radius (in units of stellar radii)\n",
        "  params.a = par[3]                       #semi-major axis (in units of stellar radii)\n",
        "  params.inc = par[4]                     #orbital inclination (in degrees)\n",
        "  params.ecc = par[5]                     #eccentricity\n",
        "  params.w = par[6]                       #longitude of periastron (in degrees)\n",
        "  params.u = [0.1, 0.3]                   #limb darkening coefficients [u1, u2]\n",
        "  params.limb_dark = \"quadratic\"          #limb darkening model\n",
        "  m = batman.TransitModel(params, t)      #initializes model\n",
        "  flux = m.light_curve(params)            #calculates light curve\n",
        "  if plottype == \"scatter\":\n",
        "    plt.scatter(t,flux,color=colour)\n",
        "  else:\n",
        "    plt.plot(t, flux,color=colour)\n",
        "  plt.xlabel(\"Time\")\n",
        "  plt.ylabel(\"Relative flux\")"
      ],
      "execution_count": 4,
      "outputs": []
    },
    {
      "cell_type": "markdown",
      "metadata": {
        "id": "aAD7I8-7RpXe"
      },
      "source": [
        "The function transit_plot takes four arguments, the first of which is a list of parameters for the BATMAN model to create a lightcurve with. This will compute flux values for plotting against a list of time values that are also passed into the function. The function can then be passed additional arguments to specify the type of plot desired and also the colour. This will be useful when plotting a model lightcurve over the raw data on the same plot."
      ]
    },
    {
      "cell_type": "markdown",
      "metadata": {
        "id": "ZuF8m0FmHA-1"
      },
      "source": [
        "#### Testing Plotting Function"
      ]
    },
    {
      "cell_type": "code",
      "metadata": {
        "id": "Z0hNAoKgGsMq"
      },
      "source": [
        "test_params = [0,1,0.1,15,87,0,90]\n",
        "test_t = np.linspace(-0.05,0.05,100)"
      ],
      "execution_count": 5,
      "outputs": []
    },
    {
      "cell_type": "code",
      "metadata": {
        "id": "mmQjpwUNRZNR",
        "outputId": "90b0a9b2-ef1a-4b9b-93be-9478c4823f82",
        "colab": {
          "base_uri": "https://localhost:8080/",
          "height": 279
        }
      },
      "source": [
        "transit_plot(test_params,test_t)"
      ],
      "execution_count": 6,
      "outputs": [
        {
          "output_type": "display_data",
          "data": {
            "image/png": "[encoded data removed]",
            "text/plain": [
              "<Figure size 432x288 with 1 Axes>"
            ]
          },
          "metadata": {
            "needs_background": "light"
          }
        }
      ]
    },
    {
      "cell_type": "code",
      "metadata": {
        "id": "T2d2dMJFHkxg",
        "colab": {
          "base_uri": "https://localhost:8080/",
          "height": 279
        },
        "outputId": "10e7f97c-c3f3-4707-f372-7822324ef1e4"
      },
      "source": [
        "transit_plot(test_params,test_t,\"scatter\",\"r\")"
      ],
      "execution_count": 7,
      "outputs": [
        {
          "output_type": "display_data",
          "data": {
            "image/png": "[encoded data removed]",
            "text/plain": [
              "<Figure size 432x288 with 1 Axes>"
            ]
          },
          "metadata": {
            "needs_background": "light"
          }
        }
      ]
    },
    {
      "cell_type": "markdown",
      "metadata": {
        "id": "c9JhS3Q3SWXD"
      },
      "source": [
        "##Manually Fitting Transit Parameters to the Raw Data"
      ]
    },
    {
      "cell_type": "code",
      "metadata": {
        "id": "9hl_ar0CHvI0"
      },
      "source": [
        ""
      ],
      "execution_count": 7,
      "outputs": []
    }
  ]
}