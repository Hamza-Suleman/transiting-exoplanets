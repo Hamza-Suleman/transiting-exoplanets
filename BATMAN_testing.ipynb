{
  "nbformat": 4,
  "nbformat_minor": 0,
  "metadata": {
    "colab": {
      "name": "BATMAN-testing.ipynb",
      "provenance": []
    },
    "kernelspec": {
      "name": "python3",
      "display_name": "Python 3"
    },
    "language_info": {
      "name": "python"
    }
  },
  "cells": [
    {
      "cell_type": "markdown",
      "metadata": {
        "id": "WHunJ7pgCWj7"
      },
      "source": [
        "# Testing the BATMAN python package in a Jupyter notebook"
      ]
    },
    {
      "cell_type": "code",
      "metadata": {
        "id": "UieJdM-UCgyK",
        "colab": {
          "base_uri": "https://localhost:8080/"
        },
        "outputId": "c2bfd792-89de-417c-b15a-e63755b9d4c3"
      },
      "source": [
        "print(\"Hello world!\")"
      ],
      "execution_count": 1,
      "outputs": [
        {
          "output_type": "stream",
          "name": "stdout",
          "text": [
            "Hello world!\n"
          ]
        }
      ]
    },
    {
      "cell_type": "code",
      "metadata": {
        "colab": {
          "base_uri": "https://localhost:8080/"
        },
        "id": "gX1CdgbkG5vP",
        "outputId": "8f552099-72fd-48cf-bab4-7ba1affd3717"
      },
      "source": [
        "!pip install batman-package"
      ],
      "execution_count": 2,
      "outputs": [
        {
          "output_type": "stream",
          "name": "stdout",
          "text": [
            "Requirement already satisfied: batman-package in /usr/local/lib/python3.7/dist-packages (2.4.8)\n",
            "Requirement already satisfied: numpy in /usr/local/lib/python3.7/dist-packages (from batman-package) (1.19.5)\n"
          ]
        }
      ]
    },
    {
      "cell_type": "code",
      "metadata": {
        "id": "OFiAzIedHep-",
        "colab": {
          "base_uri": "https://localhost:8080/"
        },
        "outputId": "e9db2c6f-703c-49ca-cb32-8173d0f499fa"
      },
      "source": [
        "!python -c 'import batman;batman.test()'"
      ],
      "execution_count": 3,
      "outputs": [
        {
          "output_type": "stream",
          "name": "stdout",
          "text": [
            "\n",
            "Starting tests...\n",
            "\n",
            "Testing uniform limb darkening model...\t\n",
            "\ttest passed\n",
            "Testing linear limb darkening model...\t\n",
            "\ttest passed\n",
            "Testing quadratic limb darkening model...\t\n",
            "\ttest passed\n",
            "Testing exponential limb darkening model...\t\n",
            "\ttest passed\n",
            "Testing logarithmic limb darkening model...\t\n",
            "\ttest passed\n",
            "Testing nonlinear limb darkening model...\t\n",
            "\ttest passed\n",
            "\n",
            "Testing error tolerance...\n",
            "\t10.0 ppm passed\n",
            "\t1.0 ppm passed\n",
            "\t0.1 ppm passed\n",
            "\t0.01 ppm passed\n",
            "\n",
            "Testing multithreading...\n",
            "\ttest passed\n",
            "\n",
            "Congratulations! all tests passed\n",
            "\n",
            "  ____       ____\n",
            "  )   \\     /   (\n",
            "   )_  \\_V_/  _(\n",
            "     )__   __(\n",
            "        `-'\n"
          ]
        }
      ]
    },
    {
      "cell_type": "markdown",
      "metadata": {
        "id": "DUY7Ibb3McHg"
      },
      "source": [
        "##Plotting a basic transit curve from the BATMAN quickstart"
      ]
    },
    {
      "cell_type": "code",
      "metadata": {
        "id": "T_fr1M8OLN8x"
      },
      "source": [
        "import batman\n",
        "import numpy as np\n",
        "import matplotlib.pyplot as plt"
      ],
      "execution_count": 4,
      "outputs": []
    },
    {
      "cell_type": "code",
      "metadata": {
        "id": "hh5aUmnXL_A1"
      },
      "source": [
        "params = batman.TransitParams()\n",
        "params.t0 = 0.                       #time of inferior conjunction\n",
        "params.per = 1.                      #orbital period\n",
        "params.rp = 0.1                      #planet radius (in units of stellar radii)\n",
        "params.a = 15.                       #semi-major axis (in units of stellar radii)\n",
        "params.inc = 87.                     #orbital inclination (in degrees)\n",
        "params.ecc = 0.                      #eccentricity\n",
        "params.w = 90.                       #longitude of periastron (in degrees)\n",
        "params.u = [0.1, 0.3]                #limb darkening coefficients [u1, u2]\n",
        "params.limb_dark = \"quadratic\"       #limb darkening model"
      ],
      "execution_count": 5,
      "outputs": []
    },
    {
      "cell_type": "code",
      "metadata": {
        "id": "GZPYXMnsMQNP"
      },
      "source": [
        "t = np.linspace(-0.05, 0.05, 100)"
      ],
      "execution_count": 6,
      "outputs": []
    },
    {
      "cell_type": "code",
      "metadata": {
        "id": "YUEMP5ruMRdE"
      },
      "source": [
        "m = batman.TransitModel(params, t)    #initializes model\n",
        "flux = m.light_curve(params)          #calculates light curve"
      ],
      "execution_count": 7,
      "outputs": []
    },
    {
      "cell_type": "code",
      "metadata": {
        "id": "Wgox5VtuMS57",
        "colab": {
          "base_uri": "https://localhost:8080/",
          "height": 279
        },
        "outputId": "39162643-ce75-42ba-a53d-4b0ded97dff1"
      },
      "source": [
        "plt.plot(t, flux)\n",
        "plt.xlabel(\"Time from central transit\")\n",
        "plt.ylabel(\"Relative flux\")\n",
        "plt.show()"
      ],
      "execution_count": 8,
      "outputs": [
        {
          "output_type": "display_data",
          "data": {
            "image/png": "[encoded data removed]",
            "text/plain": [
              "<Figure size 432x288 with 1 Axes>"
            ]
          },
          "metadata": {
            "needs_background": "light"
          }
        }
      ]
    },
    {
      "cell_type": "markdown",
      "metadata": {
        "id": "9xVtzlCSX7l0"
      },
      "source": [
        "##Plotting transit curves with different paramters"
      ]
    },
    {
      "cell_type": "code",
      "metadata": {
        "id": "Hfyo5fh1b1cL"
      },
      "source": [
        "def transit_params(int0,inper,inrp,ina,ininc,inecc,inw):\n",
        "  params = batman.TransitParams()\n",
        "  params.t0 = int0                       #time of inferior conjunction\n",
        "  params.per = inper                     #orbital period\n",
        "  params.rp = inrp                        #planet radius (in units of stellar radii)\n",
        "  params.a = ina                         #semi-major axis (in units of stellar radii)\n",
        "  params.inc = ininc                      #orbital inclination (in degrees)\n",
        "  params.ecc = inecc                      #eccentricity\n",
        "  params.w = inw                          #longitude of periastron (in degrees)\n",
        "  params.u = [0.1, 0.3]                #limb darkening coefficients [u1, u2]\n",
        "  params.limb_dark = \"quadratic\"       #limb darkening model\n",
        "  return"
      ],
      "execution_count": 9,
      "outputs": []
    },
    {
      "cell_type": "markdown",
      "metadata": {
        "id": "-2JHVG27Zsv3"
      },
      "source": [
        "###Planet radius"
      ]
    },
    {
      "cell_type": "code",
      "metadata": {
        "id": "aoeT3Xt0X7XB",
        "outputId": "0e65807f-adf3-4d60-bf9d-cb49591e3e5f",
        "colab": {
          "base_uri": "https://localhost:8080/",
          "height": 279
        }
      },
      "source": [
        "radius_params = [0.01,0.05,0.1,0.2,0.5]\n",
        "\"\"\"\n",
        "for i in range(len(radius_params)):\n",
        "  transit_params(rp=radius_params[i])\n",
        "  t = np.linspace(-0.05, 0.05, 100)\n",
        "  m = batman.TransitModel(params, t)    #initializes model\n",
        "  flux = m.light_curve(params)          #calculates light curve\n",
        "  plt.plot(t, flux)\n",
        "  plt.xlabel(\"Time from central transit\")\n",
        "  plt.ylabel(\"Relative flux\")\n",
        "  plt.show()\n",
        "\"\"\"\n",
        "\n",
        "transit_params(0,1,0.5,15,87,0,90)\n",
        "t = np.linspace(-0.05, 0.05, 100)\n",
        "m = batman.TransitModel(params, t)    #initializes model\n",
        "flux = m.light_curve(params)          #calculates light curve\n",
        "plt.plot(t, flux)\n",
        "plt.xlabel(\"Time from central transit\")\n",
        "plt.ylabel(\"Relative flux\")\n",
        "plt.show()"
      ],
      "execution_count": 10,
      "outputs": [
        {
          "output_type": "display_data",
          "data": {
            "image/png": "[encoded data removed]",
            "text/plain": [
              "<Figure size 432x288 with 1 Axes>"
            ]
          },
          "metadata": {
            "needs_background": "light"
          }
        }
      ]
    },
    {
      "cell_type": "code",
      "metadata": {
        "id": "W-kYkja8bH3I"
      },
      "source": [
        ""
      ],
      "execution_count": 10,
      "outputs": []
    }
  ]
}