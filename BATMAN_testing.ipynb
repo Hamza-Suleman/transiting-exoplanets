{
  "nbformat": 4,
  "nbformat_minor": 0,
  "metadata": {
    "colab": {
      "name": "BATMAN-testing.ipynb",
      "provenance": []
    },
    "kernelspec": {
      "name": "python3",
      "display_name": "Python 3"
    },
    "language_info": {
      "name": "python"
    }
  },
  "cells": [
    {
      "cell_type": "markdown",
      "metadata": {
        "id": "WHunJ7pgCWj7"
      },
      "source": [
        "# Testing the BATMAN python package in a Jupyter notebook"
      ]
    },
    {
      "cell_type": "code",
      "metadata": {
        "id": "UieJdM-UCgyK",
        "colab": {
          "base_uri": "https://localhost:8080/"
        },
        "outputId": "1aa59c53-1e2c-44aa-dd56-bd5a4e533e74"
      },
      "source": [
        "print(\"Hello world!\")"
      ],
      "execution_count": 1,
      "outputs": [
        {
          "output_type": "stream",
          "name": "stdout",
          "text": [
            "Hello world!\n"
          ]
        }
      ]
    },
    {
      "cell_type": "code",
      "metadata": {
        "colab": {
          "base_uri": "https://localhost:8080/"
        },
        "id": "gX1CdgbkG5vP",
        "outputId": "4780de8f-6040-4faa-f5cc-b05ab61c1390"
      },
      "source": [
        "!pip install batman-package"
      ],
      "execution_count": 2,
      "outputs": [
        {
          "output_type": "stream",
          "name": "stdout",
          "text": [
            "Collecting batman-package\n",
            "  Downloading batman-package-2.4.8.tar.gz (394 kB)\n",
            "\u001b[?25l\r\u001b[K     |▉                               | 10 kB 18.3 MB/s eta 0:00:01\r\u001b[K     |█▋                              | 20 kB 27.3 MB/s eta 0:00:01\r\u001b[K     |██▌                             | 30 kB 31.5 MB/s eta 0:00:01\r\u001b[K     |███▎                            | 40 kB 19.5 MB/s eta 0:00:01\r\u001b[K     |████▏                           | 51 kB 16.6 MB/s eta 0:00:01\r\u001b[K     |█████                           | 61 kB 12.2 MB/s eta 0:00:01\r\u001b[K     |█████▉                          | 71 kB 13.4 MB/s eta 0:00:01\r\u001b[K     |██████▋                         | 81 kB 14.8 MB/s eta 0:00:01\r\u001b[K     |███████▌                        | 92 kB 15.7 MB/s eta 0:00:01\r\u001b[K     |████████▎                       | 102 kB 11.2 MB/s eta 0:00:01\r\u001b[K     |█████████▏                      | 112 kB 11.2 MB/s eta 0:00:01\r\u001b[K     |██████████                      | 122 kB 11.2 MB/s eta 0:00:01\r\u001b[K     |██████████▉                     | 133 kB 11.2 MB/s eta 0:00:01\r\u001b[K     |███████████▋                    | 143 kB 11.2 MB/s eta 0:00:01\r\u001b[K     |████████████▌                   | 153 kB 11.2 MB/s eta 0:00:01\r\u001b[K     |█████████████▎                  | 163 kB 11.2 MB/s eta 0:00:01\r\u001b[K     |██████████████                  | 174 kB 11.2 MB/s eta 0:00:01\r\u001b[K     |███████████████                 | 184 kB 11.2 MB/s eta 0:00:01\r\u001b[K     |███████████████▊                | 194 kB 11.2 MB/s eta 0:00:01\r\u001b[K     |████████████████▋               | 204 kB 11.2 MB/s eta 0:00:01\r\u001b[K     |█████████████████▍              | 215 kB 11.2 MB/s eta 0:00:01\r\u001b[K     |██████████████████▎             | 225 kB 11.2 MB/s eta 0:00:01\r\u001b[K     |███████████████████             | 235 kB 11.2 MB/s eta 0:00:01\r\u001b[K     |████████████████████            | 245 kB 11.2 MB/s eta 0:00:01\r\u001b[K     |████████████████████▊           | 256 kB 11.2 MB/s eta 0:00:01\r\u001b[K     |█████████████████████▋          | 266 kB 11.2 MB/s eta 0:00:01\r\u001b[K     |██████████████████████▍         | 276 kB 11.2 MB/s eta 0:00:01\r\u001b[K     |███████████████████████▎        | 286 kB 11.2 MB/s eta 0:00:01\r\u001b[K     |████████████████████████        | 296 kB 11.2 MB/s eta 0:00:01\r\u001b[K     |█████████████████████████       | 307 kB 11.2 MB/s eta 0:00:01\r\u001b[K     |█████████████████████████▊      | 317 kB 11.2 MB/s eta 0:00:01\r\u001b[K     |██████████████████████████▋     | 327 kB 11.2 MB/s eta 0:00:01\r\u001b[K     |███████████████████████████▍    | 337 kB 11.2 MB/s eta 0:00:01\r\u001b[K     |████████████████████████████▏   | 348 kB 11.2 MB/s eta 0:00:01\r\u001b[K     |█████████████████████████████   | 358 kB 11.2 MB/s eta 0:00:01\r\u001b[K     |█████████████████████████████▉  | 368 kB 11.2 MB/s eta 0:00:01\r\u001b[K     |██████████████████████████████▊ | 378 kB 11.2 MB/s eta 0:00:01\r\u001b[K     |███████████████████████████████▌| 389 kB 11.2 MB/s eta 0:00:01\r\u001b[K     |████████████████████████████████| 394 kB 11.2 MB/s \n",
            "\u001b[?25h  Installing build dependencies ... \u001b[?25l\u001b[?25hdone\n",
            "  Getting requirements to build wheel ... \u001b[?25l\u001b[?25hdone\n",
            "    Preparing wheel metadata ... \u001b[?25l\u001b[?25hdone\n",
            "Requirement already satisfied: numpy in /usr/local/lib/python3.7/dist-packages (from batman-package) (1.19.5)\n",
            "Building wheels for collected packages: batman-package\n",
            "  Building wheel for batman-package (PEP 517) ... \u001b[?25l\u001b[?25hdone\n",
            "  Created wheel for batman-package: filename=batman_package-2.4.8-cp37-cp37m-linux_x86_64.whl size=221053 sha256=3491653927719f37d895038d349bdd0d9071a2f5555441e1f6df6c43966c6f57\n",
            "  Stored in directory: /root/.cache/pip/wheels/97/50/fb/df66c5937af30045fded1ee31db1d58510ef4e2681d5b4590c\n",
            "Successfully built batman-package\n",
            "Installing collected packages: batman-package\n",
            "Successfully installed batman-package-2.4.8\n"
          ]
        }
      ]
    },
    {
      "cell_type": "code",
      "metadata": {
        "id": "OFiAzIedHep-"
      },
      "source": [
        ""
      ],
      "execution_count": null,
      "outputs": []
    }
  ]
}