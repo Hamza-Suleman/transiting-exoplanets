{
  "nbformat": 4,
  "nbformat_minor": 0,
  "metadata": {
    "colab": {
      "name": "BATMAN-testing.ipynb",
      "provenance": []
    },
    "kernelspec": {
      "name": "python3",
      "display_name": "Python 3"
    },
    "language_info": {
      "name": "python"
    }
  },
  "cells": [
    {
      "cell_type": "markdown",
      "metadata": {
        "id": "WHunJ7pgCWj7"
      },
      "source": [
        "# Testing the BATMAN python package in a Jupyter notebook"
      ]
    },
    {
      "cell_type": "code",
      "metadata": {
        "id": "UieJdM-UCgyK",
        "colab": {
          "base_uri": "https://localhost:8080/"
        },
        "outputId": "12d4bfc8-9a94-4312-f8dc-d1f80a96d664"
      },
      "source": [
        "print(\"Hello world!\")"
      ],
      "execution_count": 5,
      "outputs": [
        {
          "output_type": "stream",
          "name": "stdout",
          "text": [
            "Hello world!\n"
          ]
        }
      ]
    },
    {
      "cell_type": "code",
      "metadata": {
        "colab": {
          "base_uri": "https://localhost:8080/"
        },
        "id": "gX1CdgbkG5vP",
        "outputId": "2440177d-720f-4559-edda-ed4dce51d9ed"
      },
      "source": [
        "!pip install batman-package"
      ],
      "execution_count": 6,
      "outputs": [
        {
          "output_type": "stream",
          "name": "stdout",
          "text": [
            "Requirement already satisfied: batman-package in /usr/local/lib/python3.7/dist-packages (2.4.8)\n",
            "Requirement already satisfied: numpy in /usr/local/lib/python3.7/dist-packages (from batman-package) (1.19.5)\n"
          ]
        }
      ]
    },
    {
      "cell_type": "code",
      "metadata": {
        "id": "OFiAzIedHep-",
        "outputId": "4e27998d-5d9e-4e2f-a691-1b40824b1f4e",
        "colab": {
          "base_uri": "https://localhost:8080/"
        }
      },
      "source": [
        "!python -c 'import batman;batman.test()'"
      ],
      "execution_count": 8,
      "outputs": [
        {
          "output_type": "stream",
          "name": "stdout",
          "text": [
            "\n",
            "Starting tests...\n",
            "\n",
            "Testing uniform limb darkening model...\t\n",
            "\ttest passed\n",
            "Testing linear limb darkening model...\t\n",
            "\ttest passed\n",
            "Testing quadratic limb darkening model...\t\n",
            "\ttest passed\n",
            "Testing exponential limb darkening model...\t\n",
            "\ttest passed\n",
            "Testing logarithmic limb darkening model...\t\n",
            "\ttest passed\n",
            "Testing nonlinear limb darkening model...\t\n",
            "\ttest passed\n",
            "\n",
            "Testing error tolerance...\n",
            "\t10.0 ppm passed\n",
            "\t1.0 ppm passed\n",
            "\t0.1 ppm passed\n",
            "\t0.01 ppm passed\n",
            "\n",
            "Testing multithreading...\n",
            "\ttest passed\n",
            "\n",
            "Congratulations! all tests passed\n",
            "\n",
            "  ____       ____\n",
            "  )   \\     /   (\n",
            "   )_  \\_V_/  _(\n",
            "     )__   __(\n",
            "        `-'\n"
          ]
        }
      ]
    },
    {
      "cell_type": "code",
      "metadata": {
        "id": "T_fr1M8OLN8x"
      },
      "source": [
        ""
      ],
      "execution_count": null,
      "outputs": []
    }
  ]
}