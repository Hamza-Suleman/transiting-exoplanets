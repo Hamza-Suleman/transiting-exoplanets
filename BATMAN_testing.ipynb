{
  "nbformat": 4,
  "nbformat_minor": 0,
  "metadata": {
    "colab": {
      "name": "BATMAN-testing.ipynb",
      "provenance": []
    },
    "kernelspec": {
      "name": "python3",
      "display_name": "Python 3"
    },
    "language_info": {
      "name": "python"
    }
  },
  "cells": [
    {
      "cell_type": "markdown",
      "metadata": {
        "id": "WHunJ7pgCWj7"
      },
      "source": [
        "# Testing the BATMAN python package in a Jupyter notebook"
      ]
    },
    {
      "cell_type": "code",
      "metadata": {
        "id": "UieJdM-UCgyK"
      },
      "source": [
        ""
      ],
      "execution_count": null,
      "outputs": []
    }
  ]
}