{
  "nbformat": 4,
  "nbformat_minor": 0,
  "metadata": {
    "colab": {
      "name": "Wrapper_Function",
      "provenance": [],
      "authorship_tag": "ABX9TyNtVBWIRozKv7i8mIsykM3F",
      "include_colab_link": true
    },
    "kernelspec": {
      "name": "python3",
      "display_name": "Python 3"
    },
    "language_info": {
      "name": "python"
    }
  },
  "cells": [
    {
      "cell_type": "markdown",
      "metadata": {
        "id": "view-in-github",
        "colab_type": "text"
      },
      "source": [
        "<a href=\"https://colab.research.google.com/github/Hamza-Suleman/transiting-exoplanets/blob/main/Wrapper_Function.ipynb\" target=\"_parent\"><img src=\"https://colab.research.google.com/assets/colab-badge.svg\" alt=\"Open In Colab\"/></a>"
      ]
    },
    {
      "cell_type": "markdown",
      "source": [
        "#Creating a Wrapper Function"
      ],
      "metadata": {
        "id": "4Nc_yTRlM7v9"
      }
    },
    {
      "cell_type": "markdown",
      "source": [
        "This notebook will follow the creation and testing of a wrapper function to analyse raw transit data using Python."
      ],
      "metadata": {
        "id": "OqCFEL5PM-WA"
      }
    },
    {
      "cell_type": "markdown",
      "source": [
        "##Installing Dependencies"
      ],
      "metadata": {
        "id": "cL2RLG5ZNKUv"
      }
    },
    {
      "cell_type": "code",
      "source": [
        "!pip install batman-package\n",
        "!pip install astropy\n",
        "!pip install transitleastsquares\n",
        "from scipy.optimize import minimize\n",
        "!python -c 'import batman;batman.test()'\n",
        "import batman\n",
        "import numpy as np\n",
        "import matplotlib.pyplot as plt\n",
        "from astropy.io import ascii\n",
        "from transitleastsquares import transitleastsquares\n",
        "from IPython.display import display, Math\n",
        "!pip install -U setuptools setuptools_scm pep517\n",
        "!pip install -U emcee\n",
        "import emcee\n",
        "import statistics"
      ],
      "metadata": {
        "colab": {
          "base_uri": "https://localhost:8080/"
        },
        "id": "A373e_J-M6Ix",
        "outputId": "2f25f608-5a90-4a4f-a4a9-7855a9d22b16"
      },
      "execution_count": 3,
      "outputs": [
        {
          "output_type": "stream",
          "name": "stdout",
          "text": [
            "Requirement already satisfied: batman-package in /usr/local/lib/python3.7/dist-packages (2.4.8)\n",
            "Requirement already satisfied: numpy in /usr/local/lib/python3.7/dist-packages (from batman-package) (1.19.5)\n",
            "Requirement already satisfied: astropy in /usr/local/lib/python3.7/dist-packages (4.3.1)\n",
            "Requirement already satisfied: numpy>=1.17 in /usr/local/lib/python3.7/dist-packages (from astropy) (1.19.5)\n",
            "Requirement already satisfied: importlib-metadata in /usr/local/lib/python3.7/dist-packages (from astropy) (4.10.0)\n",
            "Requirement already satisfied: pyerfa>=1.7.3 in /usr/local/lib/python3.7/dist-packages (from astropy) (2.0.0.1)\n",
            "Requirement already satisfied: typing-extensions>=3.6.4 in /usr/local/lib/python3.7/dist-packages (from importlib-metadata->astropy) (3.10.0.2)\n",
            "Requirement already satisfied: zipp>=0.5 in /usr/local/lib/python3.7/dist-packages (from importlib-metadata->astropy) (3.7.0)\n",
            "Requirement already satisfied: transitleastsquares in /usr/local/lib/python3.7/dist-packages (1.0.31)\n",
            "Requirement already satisfied: configparser in /usr/local/lib/python3.7/dist-packages (from transitleastsquares) (5.2.0)\n",
            "Requirement already satisfied: numpy in /usr/local/lib/python3.7/dist-packages (from transitleastsquares) (1.19.5)\n",
            "Requirement already satisfied: numba in /usr/local/lib/python3.7/dist-packages (from transitleastsquares) (0.51.2)\n",
            "Requirement already satisfied: batman-package in /usr/local/lib/python3.7/dist-packages (from transitleastsquares) (2.4.8)\n",
            "Requirement already satisfied: tqdm in /usr/local/lib/python3.7/dist-packages (from transitleastsquares) (4.62.3)\n",
            "Requirement already satisfied: astroquery>=0.3.9 in /usr/local/lib/python3.7/dist-packages (from transitleastsquares) (0.4.5)\n",
            "Requirement already satisfied: requests>=2.4.3 in /usr/local/lib/python3.7/dist-packages (from astroquery>=0.3.9->transitleastsquares) (2.23.0)\n",
            "Requirement already satisfied: beautifulsoup4>=4.3.2 in /usr/local/lib/python3.7/dist-packages (from astroquery>=0.3.9->transitleastsquares) (4.6.3)\n",
            "Requirement already satisfied: html5lib>=0.999 in /usr/local/lib/python3.7/dist-packages (from astroquery>=0.3.9->transitleastsquares) (1.0.1)\n",
            "Requirement already satisfied: pyvo>=1.1 in /usr/local/lib/python3.7/dist-packages (from astroquery>=0.3.9->transitleastsquares) (1.2.1)\n",
            "Requirement already satisfied: astropy>=4.0 in /usr/local/lib/python3.7/dist-packages (from astroquery>=0.3.9->transitleastsquares) (4.3.1)\n",
            "Requirement already satisfied: keyring>=4.0 in /usr/local/lib/python3.7/dist-packages (from astroquery>=0.3.9->transitleastsquares) (23.5.0)\n",
            "Requirement already satisfied: importlib-metadata in /usr/local/lib/python3.7/dist-packages (from astropy>=4.0->astroquery>=0.3.9->transitleastsquares) (4.10.0)\n",
            "Requirement already satisfied: pyerfa>=1.7.3 in /usr/local/lib/python3.7/dist-packages (from astropy>=4.0->astroquery>=0.3.9->transitleastsquares) (2.0.0.1)\n",
            "Requirement already satisfied: six>=1.9 in /usr/local/lib/python3.7/dist-packages (from html5lib>=0.999->astroquery>=0.3.9->transitleastsquares) (1.15.0)\n",
            "Requirement already satisfied: webencodings in /usr/local/lib/python3.7/dist-packages (from html5lib>=0.999->astroquery>=0.3.9->transitleastsquares) (0.5.1)\n",
            "Requirement already satisfied: jeepney>=0.4.2 in /usr/local/lib/python3.7/dist-packages (from keyring>=4.0->astroquery>=0.3.9->transitleastsquares) (0.7.1)\n",
            "Requirement already satisfied: SecretStorage>=3.2 in /usr/local/lib/python3.7/dist-packages (from keyring>=4.0->astroquery>=0.3.9->transitleastsquares) (3.3.1)\n",
            "Requirement already satisfied: typing-extensions>=3.6.4 in /usr/local/lib/python3.7/dist-packages (from importlib-metadata->astropy>=4.0->astroquery>=0.3.9->transitleastsquares) (3.10.0.2)\n",
            "Requirement already satisfied: zipp>=0.5 in /usr/local/lib/python3.7/dist-packages (from importlib-metadata->astropy>=4.0->astroquery>=0.3.9->transitleastsquares) (3.7.0)\n",
            "Requirement already satisfied: certifi>=2017.4.17 in /usr/local/lib/python3.7/dist-packages (from requests>=2.4.3->astroquery>=0.3.9->transitleastsquares) (2021.10.8)\n",
            "Requirement already satisfied: chardet<4,>=3.0.2 in /usr/local/lib/python3.7/dist-packages (from requests>=2.4.3->astroquery>=0.3.9->transitleastsquares) (3.0.4)\n",
            "Requirement already satisfied: urllib3!=1.25.0,!=1.25.1,<1.26,>=1.21.1 in /usr/local/lib/python3.7/dist-packages (from requests>=2.4.3->astroquery>=0.3.9->transitleastsquares) (1.24.3)\n",
            "Requirement already satisfied: idna<3,>=2.5 in /usr/local/lib/python3.7/dist-packages (from requests>=2.4.3->astroquery>=0.3.9->transitleastsquares) (2.10)\n",
            "Requirement already satisfied: cryptography>=2.0 in /usr/local/lib/python3.7/dist-packages (from SecretStorage>=3.2->keyring>=4.0->astroquery>=0.3.9->transitleastsquares) (36.0.1)\n",
            "Requirement already satisfied: cffi>=1.12 in /usr/local/lib/python3.7/dist-packages (from cryptography>=2.0->SecretStorage>=3.2->keyring>=4.0->astroquery>=0.3.9->transitleastsquares) (1.15.0)\n",
            "Requirement already satisfied: pycparser in /usr/local/lib/python3.7/dist-packages (from cffi>=1.12->cryptography>=2.0->SecretStorage>=3.2->keyring>=4.0->astroquery>=0.3.9->transitleastsquares) (2.21)\n",
            "Requirement already satisfied: llvmlite<0.35,>=0.34.0.dev0 in /usr/local/lib/python3.7/dist-packages (from numba->transitleastsquares) (0.34.0)\n",
            "Requirement already satisfied: setuptools in /usr/local/lib/python3.7/dist-packages (from numba->transitleastsquares) (60.5.0)\n",
            "\n",
            "Starting tests...\n",
            "\n",
            "Testing uniform limb darkening model...\t\n",
            "\ttest passed\n",
            "Testing linear limb darkening model...\t\n",
            "\ttest passed\n",
            "Testing quadratic limb darkening model...\t\n",
            "\ttest passed\n",
            "Testing exponential limb darkening model...\t\n",
            "\ttest passed\n",
            "Testing logarithmic limb darkening model...\t\n",
            "\ttest passed\n",
            "Testing nonlinear limb darkening model...\t\n",
            "\ttest passed\n",
            "\n",
            "Testing error tolerance...\n",
            "\t10.0 ppm passed\n",
            "\t1.0 ppm passed\n",
            "\t0.1 ppm passed\n",
            "\t0.01 ppm passed\n",
            "\n",
            "Testing multithreading...\n",
            "\ttest passed\n",
            "\n",
            "Congratulations! all tests passed\n",
            "\n",
            "  ____       ____\n",
            "  )   \\     /   (\n",
            "   )_  \\_V_/  _(\n",
            "     )__   __(\n",
            "        `-'\n",
            "Requirement already satisfied: setuptools in /usr/local/lib/python3.7/dist-packages (60.5.0)\n",
            "Requirement already satisfied: setuptools_scm in /usr/local/lib/python3.7/dist-packages (6.4.2)\n",
            "Requirement already satisfied: pep517 in /usr/local/lib/python3.7/dist-packages (0.12.0)\n",
            "Requirement already satisfied: packaging>=20.0 in /usr/local/lib/python3.7/dist-packages (from setuptools_scm) (21.3)\n",
            "Requirement already satisfied: tomli>=1.0.0 in /usr/local/lib/python3.7/dist-packages (from setuptools_scm) (2.0.0)\n",
            "Requirement already satisfied: pyparsing!=3.0.5,>=2.0.2 in /usr/local/lib/python3.7/dist-packages (from packaging>=20.0->setuptools_scm) (3.0.6)\n",
            "Requirement already satisfied: zipp in /usr/local/lib/python3.7/dist-packages (from pep517) (3.7.0)\n",
            "Requirement already satisfied: importlib_metadata in /usr/local/lib/python3.7/dist-packages (from pep517) (4.10.0)\n",
            "Requirement already satisfied: typing-extensions>=3.6.4 in /usr/local/lib/python3.7/dist-packages (from importlib_metadata->pep517) (3.10.0.2)\n",
            "Requirement already satisfied: emcee in /usr/local/lib/python3.7/dist-packages (3.1.1)\n",
            "Requirement already satisfied: numpy in /usr/local/lib/python3.7/dist-packages (from emcee) (1.19.5)\n"
          ]
        }
      ]
    },
    {
      "cell_type": "markdown",
      "source": [
        "##Creating the Wrapper Function"
      ],
      "metadata": {
        "id": "pkQOEIYeN_Ss"
      }
    },
    {
      "cell_type": "markdown",
      "source": [
        "This code will be the main body of the wrapper function, it will take various inputs and find the parameters of the transit and their errors."
      ],
      "metadata": {
        "id": "t4hSGqGxOOga"
      }
    },
    {
      "cell_type": "code",
      "source": [
        "def transit_analysis(data):\n",
        "\n",
        "  manual_params = [3.719,4.78,0.085,10,90.5] #This is an empty list that will eventually populate with manaul input parameters.\n",
        "  param_definitions = [\"Time of Inferior Conjunction\", \"Orbital Period\", \"Planet Radius\", \"Semi-major Axis\", \"Orbital Inclination\" ]\n",
        "\n",
        "  #Importing raw data\n",
        "  raw_data = ascii.read(data)\n",
        "  raw_time = []\n",
        "  raw_flux = []\n",
        "  raw_flux_err = []\n",
        "  for i in range(len(raw_data)):\n",
        "    raw_time.append(raw_data[i][0])\n",
        "    raw_flux.append(raw_data[i][1])\n",
        "    raw_flux_err.append(raw_data[i][2])\n",
        "  raw_time = np.array(raw_time)\n",
        "  raw_flux = np.array(raw_flux)\n",
        "  raw_flux_err = np.array(raw_flux_err)\n",
        "  #plt.plot(raw_time,raw_flux)\n",
        "\n",
        "  #A function to plot a transit from BATMAN parameters, and a list of time and flux values.\n",
        "  def transit_plot(par,t,xaxis=\"Time\",plottype=\"line\",colour=\"b\",transparency=None):   #creating a function to take a list parameter inputs and plot a lightcurve\n",
        "    params = batman.TransitParams()\n",
        "    params.t0 = par[0]                      #time of inferior conjunction\n",
        "    params.per = par[1]                     #orbital period\n",
        "    params.rp = par[2]                      #planet radius (in units of stellar radii)\n",
        "    params.a = par[3]                       #semi-major axis (in units of stellar radii)\n",
        "    params.inc = par[4]                     #orbital inclination (in degrees)\n",
        "    params.ecc = 0                          #eccentricity\n",
        "    params.w = 90                           #longitude of periastron (in degrees)\n",
        "    params.u = [0.1, 0.3]                   #limb darkening coefficients [u1, u2]\n",
        "    params.limb_dark = \"quadratic\"          #limb darkening model\n",
        "    m = batman.TransitModel(params, t)      #initializes model\n",
        "    flux = m.light_curve(params)            #calculates light curve\n",
        "    if plottype == \"scatter\":\n",
        "      plt.scatter(t,flux,color=colour,alpha=transparency)\n",
        "    else:\n",
        "      plt.plot(t, flux,color=colour,alpha=transparency)\n",
        "    plt.xlabel(xaxis)\n",
        "    plt.ylabel(\"Relative flux\")\n",
        "    plt.show()\n",
        "\n",
        "  #This function will allow the user to fit parameters manually to the data, inside the wrapper function.\n",
        "  def manual_fitting(t,f,par):\n",
        "    user_input = \"no\"\n",
        "    while user_input.lower() == \"no\":\n",
        "      print(\"\\nTrying Parameters:\")\n",
        "      print(manual_params)\n",
        "      #plt.figure(figsize=(30,10))\n",
        "      plt.scatter(t,f)\n",
        "      transit_plot(manual_params,t,colour=\"r\",transparency=0.7)\n",
        "      #plt.show()\n",
        "      user_input = input(\"\\nDo these parameters fit?\\n\")\n",
        "      if user_input.lower() == \"no\":\n",
        "        for i in range(len(manual_params)):\n",
        "          manual_params[i] = float(input(\"Enter a value for \" + param_definitions[i] + \" Parameter: \"))\n",
        "    print(\"\\nFinal Manual Parameters:\")\n",
        "    print(manual_params)\n",
        "\n",
        "  #cleaning the manual parameters to be used later in MCMC analysis\n",
        "  if manual_params[4] > 90:\n",
        "    manual_params[4] = 90-(manual_params[4]-90)\n",
        "\n",
        "  #manual_fitting(raw_time,raw_flux,manual_params)\n",
        "\n",
        "  #MCMC Analysis (on parameters: inferior conjunction, planet radius, semi-major axis, inclination)\n",
        "  def log_likelihood(par, t, flux, flux_error):\n",
        "    params = batman.TransitParams()\n",
        "    params.t0 = par[0]                      #time of inferior conjunction\n",
        "    params.per = 4.78070560                 #orbital period\n",
        "    params.rp = par[1]                      #planet radius (in units of stellar radii)\n",
        "    params.a = par[2]                       #semi-major axis (in units of stellar radii)\n",
        "    params.inc = par[3]                     #orbital inclination (in degrees)\n",
        "    params.ecc = 0                          #eccentricity\n",
        "    params.w = 90                           #longitude of periastron (in degrees)\n",
        "    params.u = [0.1, 0.3]                   #limb darkening coefficients [u1, u2]\n",
        "    params.limb_dark = \"quadratic\" \n",
        "    LC_model = batman.TransitModel(params, t)\n",
        "    LC_flux = LC_model.light_curve(params)  #calulating lightcurve flux values from input parameters\n",
        "    return -0.5 * np.nansum(((LC_flux - flux)**2)/flux_error**2) #return log likelihood\n",
        "  \n",
        "  def log_prior(par):\n",
        "    #print(par)\n",
        "    if par[0] > 0 and 0 < par[1] < 1 and par[2] > 0 and 0 < par[3] < 90: #these are limits we know to be true for the parameters that we have\n",
        "        return 0.0\n",
        "    #print(\"inf\")\n",
        "    return -np.inf\n",
        "\n",
        "  def log_probability(par, t, flux, flux_error):\n",
        "    lp = log_prior(par)\n",
        "    if not np.isfinite(lp):\n",
        "        return -np.inf\n",
        "    return lp + log_likelihood(par, t, flux, flux_error)\n",
        "\n",
        "  def MCMC(par, t, flux, flux_error):\n",
        "    pos = par + 1e-4 * np.random.randn(50, 4)\n",
        "    nwalkers, ndim = pos.shape\n",
        "    sampler = emcee.EnsembleSampler(\n",
        "      nwalkers, ndim, log_probability, args=(t, flux, flux_error)\n",
        "    )\n",
        "  sampler.run_mcmc(pos, 5000, progress=True); \n",
        "  samples = sampler.get_chain()\n",
        "  fig, axes = plt.subplots(4, figsize=(10, 7), sharex=True)\n",
        "  labels = [\"t0\", \"rp\", \"a\",\"inc\"]\n",
        "  for i in range(ndim):\n",
        "    ax = axes[i]\n",
        "    ax.plot(samples[:, :, i], \"k\", alpha=0.3)\n",
        "    ax.set_xlim(0, len(samples))\n",
        "    ax.set_ylabel(labels[i])\n",
        "    ax.yaxis.set_label_coords(-0.1, 0.5)\n",
        "  axes[-1].set_xlabel(\"step number\");\n",
        "  params = np.zeros((4,3))\n",
        "  flat_samples = sampler.get_chain(discard=1000, thin=15, flat=True)\n",
        "  print(\"These are the variables calculated by MCMC analysis:\")\n",
        "  for i in range(ndim):\n",
        "    mcmc = np.percentile(flat_samples[:, i], [16, 50, 84])\n",
        "    q = np.diff(mcmc)\n",
        "    txt = \"\\mathrm{{{3}}} = {0:.5f}_{{-{1:.5f}}}^{{{2:.5f}}}\"\n",
        "    txt = txt.format(mcmc[1], q[0], q[1], labels[i])\n",
        "    display(Math(txt))\n",
        "    params[i] = (mcmc[1], q[0], q[1])\n",
        "  return flat_samples,params\n",
        "\n",
        "  mcmc_input_params = [manual_params[0],manual_params[2],manual_params[3],manual_params[4]]\n",
        "  mcmc_input_params = np.array(mcmc_input_params)\n",
        "  mcmc_output = MCMC(mcmc_input_params,raw_time,raw_flux,raw_flux_err)\n",
        "  flat_samples = mcmc_output[0]\n",
        "  mcmc_params = mcmc_output[1]\n",
        "  print(\"Output Parameters from MCMC Analysis\")\n",
        "  print(mcmc_params)"
      ],
      "metadata": {
        "id": "Or-YngWKODuy"
      },
      "execution_count": 61,
      "outputs": []
    },
    {
      "cell_type": "code",
      "source": [
        "transit_analysis(\"https://raw.githubusercontent.com/Hamza-Suleman/transiting-exoplanets/main/Transit_model_LC_data.txt\")"
      ],
      "metadata": {
        "id": "2CtkTfMzR9i4"
      },
      "execution_count": null,
      "outputs": []
    },
    {
      "cell_type": "code",
      "source": [
        ""
      ],
      "metadata": {
        "id": "oYIK4TW2a6C8"
      },
      "execution_count": null,
      "outputs": []
    }
  ]
}