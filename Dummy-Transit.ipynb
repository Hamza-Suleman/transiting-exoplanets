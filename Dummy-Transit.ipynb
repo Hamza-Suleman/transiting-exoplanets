{
  "nbformat": 4,
  "nbformat_minor": 0,
  "metadata": {
    "colab": {
      "name": "Dummy-Transit",
      "provenance": [],
      "authorship_tag": "ABX9TyMWHJjxAPTBa3fBf4WIxgsZ"
    },
    "kernelspec": {
      "name": "python3",
      "display_name": "Python 3"
    },
    "language_info": {
      "name": "python"
    }
  },
  "cells": [
    {
      "cell_type": "code",
      "metadata": {
        "id": "k5ysglPxoWlK"
      },
      "source": [
        "# Finding the Parameters of a Known Exoplanet Transit Model"
      ],
      "execution_count": 1,
      "outputs": []
    },
    {
      "cell_type": "code",
      "metadata": {
        "id": "zpxkvwsJodC4"
      },
      "source": [
        ""
      ],
      "execution_count": null,
      "outputs": []
    }
  ]
}