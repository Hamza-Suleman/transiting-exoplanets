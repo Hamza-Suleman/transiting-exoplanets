# Finding the Parameters of a Known Exoplanet Transit Model
